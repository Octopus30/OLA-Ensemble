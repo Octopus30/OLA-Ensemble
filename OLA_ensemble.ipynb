{
 "cells": [
  {
   "cell_type": "markdown",
   "id": "1611d9e7",
   "metadata": {},
   "source": [
    "![Ola Logo](https://logowik.com/content/uploads/images/ola-cabs.jpg)\n",
    "**Ola Cabs** is an Indian multinational ride-sharing company founded in **2010** by **Bhavish Aggarwal** and **Ankit Bhati**. Headquartered in **Bengaluru, India**, Ola provides a variety of mobility services, including:\n",
    "\n",
    "- **Ride-hailing**: Connecting passengers with drivers for cars, auto-rickshaws, and bikes.\n",
    "- **Car Rentals**: Offering rental services for short and long durations.\n",
    "- **Ola Electric**: Focused on electric vehicles (EVs) and sustainable mobility solutions.\n",
    "- **Ola Foods**: A food delivery and cloud kitchen service.\n",
    "- **Ola Financial Services**: Providing financial products like insurance and credit.\n",
    "\n",
    "Ola has expanded internationally to countries like **Australia**, **New Zealand**, and the **UK**, and is one of the largest ride-hailing platforms in India. It competes with global players like Uber in the Indian market.\n",
    "\n",
    "Ola's mission is to revolutionize urban mobility by making transportation more accessible, efficient, and sustainable."
   ]
  },
  {
   "cell_type": "markdown",
   "id": "5be83d07",
   "metadata": {},
   "source": [
    "# <span style=\"font-family: 'Inter'; color:rgb(196, 241, 14);\">Problem statement</span>"
   ]
  },
  {
   "cell_type": "markdown",
   "id": "457c942f",
   "metadata": {},
   "source": [
    "<p style=\"font-family: 'IBM Plex Sans'; font-size: 16px; color: white;\">\n",
    "    Recruiting and retaining drivers is seen by industry watchers as a tough battle for Ola. Churn among drivers is high and it’s very easy for drivers to stop working for the service on the fly or jump to Uber depending on the rates.</p>\n",
    "\n",
    "<p style=\"font-family: 'Source Sans Pro'; font-size: 16px; color: white;\">\n",
    "    As the companies get bigger, the high churn could become a bigger problem. To find new drivers, Ola is casting a wide net, including people who don’t have cars for jobs. But this acquisition is really costly. Losing drivers frequently impacts the morale of the organization and acquiring new drivers is more expensive than retaining existing ones.\n",
    "</p>\n"
   ]
  },
  {
   "cell_type": "markdown",
   "id": "654923a5",
   "metadata": {},
   "source": []
  }
 ],
 "metadata": {
  "kernelspec": {
   "display_name": "venv_OLA",
   "language": "python",
   "name": "python3"
  },
  "language_info": {
   "name": "python",
   "version": "3.12.6"
  }
 },
 "nbformat": 4,
 "nbformat_minor": 5
}
